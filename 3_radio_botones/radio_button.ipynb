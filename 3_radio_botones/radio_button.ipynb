{
 "cells": [
  {
   "cell_type": "code",
   "execution_count": 26,
   "metadata": {},
   "outputs": [],
   "source": [
    "from tkinter import *\n",
    "\n",
    "o_root=Tk()\n",
    "\n",
    "v_options=IntVar()\n"
   ]
  },
  {
   "cell_type": "code",
   "execution_count": 27,
   "metadata": {},
   "outputs": [],
   "source": [
    "## defino un metodo \n",
    "def MiMetodo():\n",
    "   print(v_options.get())\n",
    "\n",
    "   if v_options.get()==1:\n",
    "      o_etiqueta.config(text=\"has elegido opcion 1\")\n",
    "   else:\n",
    "      o_etiqueta.config(text=\"has elegido opcion 2\")\n",
    "   \n",
    "## defino una variable\n",
    "Label(o_root, text=\"seleccione una opcion\").pack()\n",
    "\n",
    "## permite definir una opcion\n",
    "Radiobutton(o_root, text=\"primero\", variable=v_options, value=1, command=MiMetodo).pack()\n",
    "Radiobutton(o_root, text=\"segundo\", variable=v_options, value=2, command=MiMetodo).pack()"
   ]
  },
  {
   "cell_type": "code",
   "execution_count": 28,
   "metadata": {},
   "outputs": [],
   "source": [
    "## crea una etiqueta\n",
    "o_etiqueta=Label(o_root)\n",
    "o_etiqueta.pack()\n"
   ]
  },
  {
   "cell_type": "code",
   "execution_count": 29,
   "metadata": {},
   "outputs": [],
   "source": [
    "o_root.mainloop()"
   ]
  }
 ],
 "metadata": {
  "kernelspec": {
   "display_name": "Python 3",
   "language": "python",
   "name": "python3"
  },
  "language_info": {
   "codemirror_mode": {
    "name": "ipython",
    "version": 3
   },
   "file_extension": ".py",
   "mimetype": "text/x-python",
   "name": "python",
   "nbconvert_exporter": "python",
   "pygments_lexer": "ipython3",
   "version": "3.11.2"
  }
 },
 "nbformat": 4,
 "nbformat_minor": 2
}
