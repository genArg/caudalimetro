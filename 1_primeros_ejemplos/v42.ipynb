{
 "cells": [
  {
   "cell_type": "code",
   "execution_count": 1,
   "metadata": {},
   "outputs": [],
   "source": [
    "from tkinter import *\n",
    "\n",
    "raiz=Tk() # creacion de una ventana\n",
    "\n",
    "raiz.title(\"titulo de la ventana\") # proporciona el titulo\n",
    "\n",
    "raiz.resizable(1,1) # detemina si sera posible redimensinar la ventana (ancho, largo) admite true o false\n",
    "\n",
    "raiz.iconbitmap(\"unt.ico\") # insertar una imagen como icono de la ventana\n",
    "\n",
    "#raiz.geometry(\"550x350\") # establece el tamaño de la pantalla\n",
    "\n",
    "raiz.config(bg=\"black\") # permite varias configuraciones de la ventana \n",
    "\n",
    "# nota # para evitar que se inicie una consola al ejecutar el codigo se cambia la extencion a .pyw"
   ]
  },
  {
   "cell_type": "code",
   "execution_count": 2,
   "metadata": {},
   "outputs": [],
   "source": [
    "## clase 2 Frame\n",
    "miFrame=Frame() # crea un frame que representa como una hoja en blanco dentro de la ventana\n",
    "\n",
    "miFrame.pack(side=\"top\", anchor=\"n\") # empaqueta el frame creado dentro de la ventana, y al redimensionar se mantiene a la derecha\n",
    "                                          #anchor determina tambien una pociion hacia donde se estirara\n",
    "#miFrame.pack(fill=\"x\", expand=\"True\") # se usa para rellenar al redimensionar la ventana en la direccion x\n",
    "#miFrame.pack(fill=\"both\", expand=\"True\") # se expande en toda direccion\n",
    "\n",
    "miFrame.config(bg=\"red\") # le da color al frame pero debemos darle un tamaño y comentamos el tamaño del raiz\n",
    "\n",
    "miFrame.config(width=\"650\",height=\"350\") # establce el tamaño del frame y la raiz se adapta\n",
    "\n",
    "miFrame.config(bd=10) # establece el ancho del borde\n",
    "\n",
    "miFrame.config(relief=\"groove\") # se especifica el tipo de borde\n",
    "\n",
    "miFrame.config(cursor=\"hand2\") # premite cambiar la forma del cursor sobre el frame\n",
    "\n",
    "# nota # todas estas configuraciones tambien son aplicables a la raiz\n",
    "# nota # se puede enviar multiples parametros dentro de un solo config"
   ]
  },
  {
   "cell_type": "code",
   "execution_count": 3,
   "metadata": {},
   "outputs": [],
   "source": [
    "## clase 3 Label -> permite mostrar texto estatico Label(contenedor, *opciones*)\n",
    "'''\n",
    "etiqueta=Label(miFrame, text=\"vamos \") # establece un texto en miFrame\n",
    "\n",
    "#etiqueta.pack() # tambien debemos empaquetar el Label, problema que se adapata el frame al texto\n",
    "etiqueta.place(x=100, y=200) # empaqueta la etiqueta de forma que no se adapta el frame al texto\n",
    "#'''\n",
    "\n",
    "## metodo abreviado de una etiqueta que no se buelve a usar\n",
    "Label(miFrame, text=\"vamos nerd\").place(x=100, y=200) # se unifica todo en una linea y se omite crear una cariable\n",
    "\n",
    "## aplicar una umagen como etiqueta\n",
    "miImagen=PhotoImage(file=\"unt.png\") # variable para guradar la imagen\n",
    "Label(miFrame, image=miImagen).place(x=200, y=10) # muestra la imagen como etiqueta\n"
   ]
  },
  {
   "cell_type": "code",
   "execution_count": 4,
   "metadata": {},
   "outputs": [],
   "source": [
    "## clse 4 Entry -> cuadro de texto, vale todo  lo utilizado en label\n",
    "cuadroTexto=Entry(miFrame) # crea un cuadro de texto\n",
    "\n",
    "#cuadroTexto.place(x=400,y=200) # establece la posicion\n",
    "\n",
    "cuadroTexto.grid(row=0, column=1, sticky=\"w\") # permite ordenar los elementos en una matriz\n",
    "nombre=Label(miFrame, text=\"nomre\") # etiqueta axiliar\n",
    "nombre.grid(row=0,column=0, sticky=\"w\") # posicion de la etiqueta\n",
    "\n",
    "# crea una segunda linea y vincula una variable\n",
    "var_diereccion=StringVar() # variable para vincularlo al cuadro de texto\n",
    "Label(miFrame, text=\"direccion real\").grid(row=1,column=0, sticky=\"w\") # se unifica todo en una linea y se omite crear una cariable\n",
    "direccion=Entry(miFrame, textvariable=var_diereccion) # crea un cuadro de texto y vincula una variable\n",
    "direccion.grid(row=1, column=1, sticky=\"w\",padx=5) # permite ordenar los elementos en una matriz\n",
    "#direccion.config(show=\"*\") # oculta el texto con *, se puede usar cualquier caracter\n",
    "direccion.config(fg=\"red\", justify=\"right\") # establece el color y la posicion dentro del cuadro\n",
    "\n",
    "# sticky permite alinear el texto, w es oeste\n",
    "# padx permite colocar espaciamiento entre los widges en la direccion x"
   ]
  },
  {
   "cell_type": "code",
   "execution_count": 5,
   "metadata": {},
   "outputs": [],
   "source": [
    "## clase 5 texto y boton\n",
    "def MiMetodo(): # define el metodo que ejecuta el boton\n",
    "   print(\"hola nerds\")\n",
    "   var_diereccion.set(\"mi drieccion\") # establece un valor a la variable\n",
    "\n",
    "boton=Button(miFrame, text=\"super boton\", command=MiMetodo) # define el boton\n",
    "boton.grid(row=2, column=0) # posicion del boton\n",
    "\n",
    "o_cuadro_texto=Text(miFrame, width=16, height=5) # define un cuadro de texto, con 16 caracteres con 5 filas\n",
    "o_cuadro_texto.grid(row=2, column=1) # establece la posicion\n",
    "\n",
    "o_scroll_bar=Scrollbar(miFrame, command=o_cuadro_texto.yview) # define una barra de desplazamiento\n",
    "# o_cuadro_texto.yview define la pertenencia y el tipo de desplazamiento\n",
    "o_scroll_bar.grid(row=2, column=2, sticky=\"nsew\") # estabelce la posicion y lo expande\n",
    "o_cuadro_texto.config(yscrollcommand=o_scroll_bar.set) # define una barra dinamica de posicion con el texto\n"
   ]
  },
  {
   "cell_type": "code",
   "execution_count": 6,
   "metadata": {},
   "outputs": [],
   "source": [
    "raiz.mainloop() # lazo principal mientras se ejecuta la ventana"
   ]
  }
 ],
 "metadata": {
  "kernelspec": {
   "display_name": "Python 3",
   "language": "python",
   "name": "python3"
  },
  "language_info": {
   "codemirror_mode": {
    "name": "ipython",
    "version": 3
   },
   "file_extension": ".py",
   "mimetype": "text/x-python",
   "name": "python",
   "nbconvert_exporter": "python",
   "pygments_lexer": "ipython3",
   "version": "3.11.2"
  }
 },
 "nbformat": 4,
 "nbformat_minor": 2
}
